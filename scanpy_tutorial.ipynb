{
 "cells": [
  {
   "cell_type": "markdown",
   "metadata": {},
   "source": [
    "# scRNA-Seq tutorial with the _scanpy_ package"
   ]
  },
  {
   "cell_type": "markdown",
   "metadata": {},
   "source": [
    "This is a basic tutorial explaining a 10X scRNA-Seq data analysis pipeline using the scanpy package.\n",
    "It includes short descriptions of AnnData objects and scanpy functionalities, including:\n",
    "\n",
    "- data loading and subsetting\n",
    "- data quality control\n",
    "- normalisation and data transformation\n",
    "- PCA\n",
    "- clustering\n",
    "- dimensionality reduction techniques\n",
    "- scanpy plotting functions\n",
    "- finding marker genes for each cluster\n",
    "- simple trajectory analysis with PAGA"
   ]
  },
  {
   "cell_type": "markdown",
   "metadata": {},
   "source": [
    "Loading required modules"
   ]
  },
  {
   "cell_type": "code",
   "execution_count": null,
   "metadata": {},
   "outputs": [],
   "source": [
    "import numpy as np\n",
    "import pandas as pd\n",
    "import scanpy as sc\n",
    "import matplotlib.pyplot as plt\n",
    "\n",
    "import random\n",
    "random.seed(123)\n",
    "\n",
    "sc.settings.verbosity = 3"
   ]
  },
  {
   "cell_type": "code",
   "execution_count": null,
   "metadata": {},
   "outputs": [],
   "source": [
    "#Sets figure size\n",
    "from matplotlib import rcParams\n",
    "rcParams['figure.figsize'] = (4, 4)"
   ]
  },
  {
   "cell_type": "markdown",
   "metadata": {},
   "source": [
    "## Loading data"
   ]
  },
  {
   "cell_type": "markdown",
   "metadata": {},
   "source": [
    "Loading a previously prepared .h5ad file (an hdf5 file)\n",
    "\n",
    "The CellRanger pipeline outpus:\n",
    "- sparse matrix format - a folder with: matrix.mtx, genes.tsv and barcodes.tsv. These can be imported with the function: sc.read_10x_mtx(path)\n",
    "- hdf5 file format - filtered_feature_bc_matrix.h5, These can be imported with the function: sc.read_10x_h5(file)"
   ]
  },
  {
   "cell_type": "code",
   "execution_count": null,
   "metadata": {},
   "outputs": [],
   "source": [
    "adata = sc.read('./LK_example2k.h5ad')\n",
    "adata.var_names_make_unique()"
   ]
  },
  {
   "cell_type": "markdown",
   "metadata": {},
   "source": [
    "Looking inside the object"
   ]
  },
  {
   "cell_type": "code",
   "execution_count": null,
   "metadata": {},
   "outputs": [],
   "source": [
    "adata"
   ]
  },
  {
   "cell_type": "markdown",
   "metadata": {},
   "source": [
    "We have 2000 cells (aka observations, rows of the matrix) and 27998 genes (aka variables, columns of the matrix)"
   ]
  },
  {
   "cell_type": "markdown",
   "metadata": {},
   "source": [
    "## AnnData objects"
   ]
  },
  {
   "cell_type": "markdown",
   "metadata": {},
   "source": [
    "**Attributes**\n",
    "\n",
    "A detailed description of the AnnData object can be found here: https://icb-anndata.readthedocs-hosted.com/en/stable/index.html. Here is a brief summary:\n",
    "\n",
    ".X - ndarray or sparray, a matrix containing counts\n",
    "\n",
    ".obs - a pandas DataFrame with information about cells, cell IDs are stored in the DataFrame index\n",
    "\n",
    ".var - a pandas DataFrame with information about features/genes, their IDs are stored in the DataFrame index\n",
    "\n",
    ".uns - unstructured annotation, e.g. cluster colors\n",
    "\n",
    ".obsm - multi-dimensional observations annotation for each cell - e.g. PCA or UMAP coordinates"
   ]
  },
  {
   "cell_type": "markdown",
   "metadata": {},
   "source": [
    "**Methods**\n",
    "\n",
    "Additionally AnnData objects include multiple methods:\n",
    "\n",
    "adata.write() - saves the AnnData object to .h5ad format (using compression = 'lzf' saves a lot of space)\n",
    "\n",
    "adata.concatenate() - concatenate two or more AnnData objects\n",
    "\n",
    "adata.T() - transpose the object (swap genes and cells)\n",
    "\n",
    "adata.copy() - make a copy of the object (important!)"
   ]
  },
  {
   "cell_type": "markdown",
   "metadata": {},
   "source": [
    "**Subsetting**"
   ]
  },
  {
   "cell_type": "markdown",
   "metadata": {},
   "source": [
    "Selecting cells/genes uses a standard notation [a,b], the variables can be: cell/gene names, numeric indexes or boolean values. For example here we select the first 100 cells and all genes."
   ]
  },
  {
   "cell_type": "code",
   "execution_count": null,
   "metadata": {},
   "outputs": [],
   "source": [
    "a = adata[0:100,:].copy()"
   ]
  },
  {
   "cell_type": "markdown",
   "metadata": {},
   "source": [
    "Or selecting the 200:300 genes and all cells"
   ]
  },
  {
   "cell_type": "code",
   "execution_count": null,
   "metadata": {},
   "outputs": [],
   "source": [
    "b = adata[:,200:300].copy()"
   ]
  },
  {
   "cell_type": "markdown",
   "metadata": {},
   "source": [
    "**Adding additional annotation**"
   ]
  },
  {
   "cell_type": "markdown",
   "metadata": {},
   "source": [
    "Let's imagine that we have some additional cell or gene annotations we would like to add to the AnnData object. It's stored in a .csv file called: anno.csv. We will load this data using pandas functionality and merge with the respective attribute of the AnnData object."
   ]
  },
  {
   "cell_type": "code",
   "execution_count": null,
   "metadata": {},
   "outputs": [],
   "source": [
    "anno = pd.read_csv('./anno.csv', index_col = 0) #index_col forces pandas to use the first column as index\n",
    "anno"
   ]
  },
  {
   "cell_type": "markdown",
   "metadata": {},
   "source": [
    "Note that the DataFrame index contains the cell names compatible with the AnnData object. Using the merge() mehod to join the .obs DataFrame with the annotation"
   ]
  },
  {
   "cell_type": "code",
   "execution_count": null,
   "metadata": {},
   "outputs": [],
   "source": [
    "adata.obs = adata.obs.merge(anno, left_index = True, right_index = True)\n",
    "adata"
   ]
  },
  {
   "cell_type": "markdown",
   "metadata": {},
   "source": [
    "Analogously we can add gene annotation to the .var attribute"
   ]
  },
  {
   "cell_type": "markdown",
   "metadata": {},
   "source": [
    "**Cocatenating AnnData objects**"
   ]
  },
  {
   "cell_type": "markdown",
   "metadata": {},
   "source": [
    "If we want to join two datasets together we can use the built in AnnData method - concatenate. For simplicity we concatenate two the same objects - adata, and we get an ojbect with 4000 cells."
   ]
  },
  {
   "cell_type": "code",
   "execution_count": null,
   "metadata": {},
   "outputs": [],
   "source": [
    "adata.concatenate(adata)"
   ]
  },
  {
   "cell_type": "markdown",
   "metadata": {},
   "source": [
    "## _scanpy_ functions"
   ]
  },
  {
   "cell_type": "markdown",
   "metadata": {},
   "source": [
    "_scanpy_ functions are grouped accordingly:\n",
    "\n",
    "sc.read - loading data\n",
    "\n",
    "sc.pp - preprocessing functions (cell/gene filtering), normalisation, scaling etc\n",
    "\n",
    "sc.tl - various tools like dimensionality reduction, finding nearest neighbors etc\n",
    "\n",
    "sc.pl - plotting fuctions"
   ]
  },
  {
   "cell_type": "markdown",
   "metadata": {},
   "source": [
    "**Important**: these function by default modify the AnnData **in place**, to avoid that behaviour set copy = True"
   ]
  },
  {
   "cell_type": "markdown",
   "metadata": {},
   "source": [
    "## Preprocessing"
   ]
  },
  {
   "cell_type": "markdown",
   "metadata": {},
   "source": [
    "### Quality control"
   ]
  },
  {
   "cell_type": "markdown",
   "metadata": {},
   "source": [
    "scRNA-Seq experiments contain varying fractions of so called 'low-quality cells'. These can have various origins, including (but not limited to): dying or damaged cells, cell fragments or failed reactions. These cells usually have lower number of genes or UMIs detected and/or higher fraction of counts mapped to the mitochondrial genes (especially dying cells). To find these cells and filter them out we  calculate the number of counts/genes per cell and number of cells with >0 counts for each gene. The information is added to the .obs and .var attributes.\n",
    "\n",
    "**Import note** - some cell types may naturally appear as low-quality, due to loow RNA content. An example of such population is HSCs. Thus it's best to choose thresholds with care."
   ]
  },
  {
   "cell_type": "code",
   "execution_count": null,
   "metadata": {},
   "outputs": [],
   "source": [
    "sc.pp.filter_cells(adata, min_genes = 0)\n",
    "sc.pp.filter_cells(adata, min_counts = 0)\n",
    "sc.pp.filter_genes(adata, min_cells = 0)"
   ]
  },
  {
   "cell_type": "code",
   "execution_count": null,
   "metadata": {},
   "outputs": [],
   "source": [
    "adata"
   ]
  },
  {
   "cell_type": "markdown",
   "metadata": {},
   "source": [
    "Plotting the distribution of values above"
   ]
  },
  {
   "cell_type": "code",
   "execution_count": null,
   "metadata": {},
   "outputs": [],
   "source": [
    "n, bins, patches = plt.hist(np.log10(adata.obs.n_counts+1), 50, density=1, facecolor='green', alpha=0.75)\n",
    "plt.title('No of counts per cell (log10)')\n",
    "plt.show()\n",
    "\n",
    "n, bins, patches = plt.hist(adata.obs['n_genes'], 50, range = [0,8000], density=1, facecolor='green', alpha=0.75)\n",
    "plt.title('No of genes per cell')\n",
    "plt.show()"
   ]
  },
  {
   "cell_type": "markdown",
   "metadata": {},
   "source": [
    "To filter out low quality cells, we use the same functions filter_cells or filter_genes with specific thresholds."
   ]
  },
  {
   "cell_type": "code",
   "execution_count": null,
   "metadata": {},
   "outputs": [],
   "source": [
    "sc.pp.filter_cells(adata, min_genes = 2000)\n",
    "sc.pp.filter_cells(adata, min_counts = 1000)"
   ]
  },
  {
   "cell_type": "code",
   "execution_count": null,
   "metadata": {},
   "outputs": [],
   "source": [
    "adata"
   ]
  },
  {
   "cell_type": "markdown",
   "metadata": {},
   "source": [
    "Identifying the mitochondrial genes (thir name starts with mt_)"
   ]
  },
  {
   "cell_type": "code",
   "execution_count": null,
   "metadata": {},
   "outputs": [],
   "source": [
    "import re\n",
    "mts = list(filter(lambda x: re.search('^mt-', x), adata.var.index))\n",
    "print(mts)"
   ]
  },
  {
   "cell_type": "markdown",
   "metadata": {},
   "source": [
    "Counting the UMIs mapped to mitochondrial genes and plotting them"
   ]
  },
  {
   "cell_type": "code",
   "execution_count": null,
   "metadata": {},
   "outputs": [],
   "source": [
    "mt = adata[:,mts]\n",
    "adata.obs['mt_count'] = mt.X.sum(axis = 1).A1\n",
    "adata.obs['mt_frac'] = adata.obs['mt_count'] / adata.obs['n_counts']"
   ]
  },
  {
   "cell_type": "code",
   "execution_count": null,
   "metadata": {},
   "outputs": [],
   "source": [
    "n, bins, patches = plt.hist(adata.obs['mt_frac'], 50, range=[0, 0.2], density=1, facecolor='green', alpha=0.75)\n",
    "plt.title('Fraction of counts in mitochondrial genes')\n",
    "plt.show()"
   ]
  },
  {
   "cell_type": "markdown",
   "metadata": {},
   "source": [
    "Usual threshold here is 10%, here all cells pas the threshold"
   ]
  },
  {
   "cell_type": "code",
   "execution_count": null,
   "metadata": {},
   "outputs": [],
   "source": [
    "print('Cells with mitochondrial counts> 10%:' + str(sum(adata.obs['mt_frac'] > 0.1)))\n",
    "adata = adata[~(adata.obs['mt_frac'] > 0.1),:]\n",
    "print(adata)"
   ]
  },
  {
   "cell_type": "markdown",
   "metadata": {},
   "source": [
    "### Normalisation etc"
   ]
  },
  {
   "cell_type": "markdown",
   "metadata": {},
   "source": [
    "First we remove genes without any expression across the whole dataset"
   ]
  },
  {
   "cell_type": "code",
   "execution_count": null,
   "metadata": {},
   "outputs": [],
   "source": [
    "sc.pp.filter_genes(adata, min_counts=1)"
   ]
  },
  {
   "cell_type": "markdown",
   "metadata": {},
   "source": [
    "For preprocessing the typical order is: normalise data (here a simple normalisation per 10000 counts), log-transform, select variable features/genes and scale"
   ]
  },
  {
   "cell_type": "markdown",
   "metadata": {},
   "source": [
    "Let's perform the operations and see how the values change.\n",
    "Note: todense() is required to covert the sparse matrix input"
   ]
  },
  {
   "cell_type": "code",
   "execution_count": null,
   "metadata": {},
   "outputs": [],
   "source": [
    "adata.X[100:105, 102:107].todense()"
   ]
  },
  {
   "cell_type": "code",
   "execution_count": null,
   "metadata": {},
   "outputs": [],
   "source": [
    "sc.pp.normalize_per_cell(adata, counts_per_cell_after = 10000)\n",
    "adata.X[100:105, 102:107].todense()"
   ]
  },
  {
   "cell_type": "code",
   "execution_count": null,
   "metadata": {},
   "outputs": [],
   "source": [
    "sc.pp.log1p(adata)\n",
    "adata.X[100:105, 102:107].todense()"
   ]
  },
  {
   "cell_type": "markdown",
   "metadata": {},
   "source": [
    "A large fraction of genes is not informative for our analysis and adds unnecessary noise to the data. Hence we will select top 5000 gene with the highest dispersion"
   ]
  },
  {
   "cell_type": "code",
   "execution_count": null,
   "metadata": {},
   "outputs": [],
   "source": [
    "sc.pp.highly_variable_genes(adata, flavor='seurat', n_top_genes = 5000)\n",
    "print(\"No of variable genes detected: \" + str(sum(adata.var.highly_variable)))\n",
    "sc.pl.highly_variable_genes(adata)"
   ]
  },
  {
   "cell_type": "markdown",
   "metadata": {},
   "source": [
    "The variable genes are labelled as highly_variable in the .var slot, and by default are used for subsequent computations"
   ]
  },
  {
   "cell_type": "code",
   "execution_count": null,
   "metadata": {},
   "outputs": [],
   "source": [
    "adata"
   ]
  },
  {
   "cell_type": "markdown",
   "metadata": {},
   "source": [
    "Before scaling the data, we will save the log-normalised data"
   ]
  },
  {
   "cell_type": "code",
   "execution_count": null,
   "metadata": {},
   "outputs": [],
   "source": [
    "adata.write('LK_example2k_nlog.h5ad', compression = 'lzf')"
   ]
  },
  {
   "cell_type": "markdown",
   "metadata": {},
   "source": [
    "Scaling centers data around the mean expression values. This essentially gives equal weight to each gene for other computations"
   ]
  },
  {
   "cell_type": "code",
   "execution_count": null,
   "metadata": {},
   "outputs": [],
   "source": [
    "sc.pp.scale(adata)\n",
    "adata.X[100:105, 102:107] #Note the lack of todense(), scaling converts the .X to a normal matrix"
   ]
  },
  {
   "cell_type": "markdown",
   "metadata": {},
   "source": [
    "Now we can load back the log-normalised data into the .raw slot of the AnnData object. These counts are by default not used for the downstream computation but are accessed by default to plot gene expression or for differential expression."
   ]
  },
  {
   "cell_type": "code",
   "execution_count": null,
   "metadata": {},
   "outputs": [],
   "source": [
    "adata.raw = sc.read('LK_example2k_nlog.h5ad')"
   ]
  },
  {
   "cell_type": "markdown",
   "metadata": {},
   "source": [
    "## Data transformation"
   ]
  },
  {
   "cell_type": "markdown",
   "metadata": {},
   "source": [
    "#### Principal component analysis"
   ]
  },
  {
   "cell_type": "markdown",
   "metadata": {},
   "source": [
    "The first step is to reduce the 5000 dimensions (variable genes) to a more managable number. Principal component analysis find directions in the high-dimensional space starting with those with the highest variance. Thus selecting the top principal components allows us to represent a large fraction of the variability in the data. Here we compute the first 50 components."
   ]
  },
  {
   "cell_type": "code",
   "execution_count": null,
   "metadata": {},
   "outputs": [],
   "source": [
    "sc.tl.pca(adata, n_comps=50, svd_solver = 'arpack')"
   ]
  },
  {
   "cell_type": "markdown",
   "metadata": {},
   "source": [
    "We can plot the first few components to get a sense of what is going on in the data"
   ]
  },
  {
   "cell_type": "code",
   "execution_count": null,
   "metadata": {},
   "outputs": [],
   "source": [
    "sc.pl.pca(adata, color = ['Procr', 'Klf1', 'Elane', 'Dntt'], components = ['1,2', '2,3'])"
   ]
  },
  {
   "cell_type": "markdown",
   "metadata": {},
   "source": [
    "How many PCs do we actually need? We can look at the variance explained by each component"
   ]
  },
  {
   "cell_type": "code",
   "execution_count": null,
   "metadata": {},
   "outputs": [],
   "source": [
    "sc.pl.pca_variance_ratio(adata, n_pcs = 50, log=False)"
   ]
  },
  {
   "cell_type": "markdown",
   "metadata": {},
   "source": [
    "Loading indicate how much each gene contribute to each PC"
   ]
  },
  {
   "cell_type": "code",
   "execution_count": null,
   "metadata": {},
   "outputs": [],
   "source": [
    "sc.pl.pca_loadings(adata)"
   ]
  },
  {
   "cell_type": "markdown",
   "metadata": {},
   "source": [
    "We will use here the first 20 principal components"
   ]
  },
  {
   "cell_type": "markdown",
   "metadata": {},
   "source": [
    "#### Finding nearest neighbors"
   ]
  },
  {
   "cell_type": "markdown",
   "metadata": {},
   "source": [
    "Many of the dimensionality reduction techniques and the clustering algorithm rely on a nearest neighbor graph. We use the sc.pp.neighbors function and need to specify two key parameters: **number of neighbors for each cell** and the number of PCs to be used."
   ]
  },
  {
   "cell_type": "code",
   "execution_count": null,
   "metadata": {},
   "outputs": [],
   "source": [
    "sc.pp.neighbors(adata, n_neighbors = 7, n_pcs = 20)"
   ]
  },
  {
   "cell_type": "markdown",
   "metadata": {},
   "source": [
    "#### Clustering"
   ]
  },
  {
   "cell_type": "markdown",
   "metadata": {},
   "source": [
    "To cluster the data we will use the leiden algorithm, which is a community-detection algorithm trying to maximise the modularity. The resolution parameter tweaks how fine cluster we want to detect."
   ]
  },
  {
   "cell_type": "code",
   "execution_count": null,
   "metadata": {},
   "outputs": [],
   "source": [
    "sc.tl.leiden(adata, resolution=0.5)"
   ]
  },
  {
   "cell_type": "markdown",
   "metadata": {},
   "source": [
    "### Dimensionality reduction techniques (other than the PCA)"
   ]
  },
  {
   "cell_type": "markdown",
   "metadata": {},
   "source": [
    "#### Diffusion maps"
   ]
  },
  {
   "cell_type": "markdown",
   "metadata": {},
   "source": [
    "Diffusion maps model the differentiation process as a diffusion process, thus they are particularly suitable for capturing trajectories in the data. Just like with PCA, multiple components, each with a decreasing 'significance', are computed. However, if multiple trajectories are present in the data, they will be distributed across multiple components and thus difficult to see in 2D."
   ]
  },
  {
   "cell_type": "code",
   "execution_count": null,
   "metadata": {},
   "outputs": [],
   "source": [
    "sc.tl.diffmap(adata)"
   ]
  },
  {
   "cell_type": "code",
   "execution_count": null,
   "metadata": {},
   "outputs": [],
   "source": [
    "sc.pl.diffmap(adata, color = ['Procr', 'Klf1', 'Elane', 'Dntt'], components = ['1,2', '2,3'])"
   ]
  },
  {
   "cell_type": "markdown",
   "metadata": {},
   "source": [
    "#### tSNE"
   ]
  },
  {
   "cell_type": "markdown",
   "metadata": {},
   "source": [
    "tSNE is machine learning technique, which tries to find the best 2d (or 3d) representation of the data by optimising the nearby point distribution. However, the method largely neglects global structure of the data in the process. This means that it picks the clusters effectively, but their relative location may not represent progressions/relation in the higher dimensional space.\n",
    "Note: the method is non-linear, hence distances between points do not represent distances in the gene expression space\n",
    "\n",
    "Source: https://lvdmaaten.github.io/tsne/"
   ]
  },
  {
   "cell_type": "code",
   "execution_count": null,
   "metadata": {},
   "outputs": [],
   "source": [
    "sc.tl.tsne(adata)"
   ]
  },
  {
   "cell_type": "code",
   "execution_count": null,
   "metadata": {},
   "outputs": [],
   "source": [
    "sc.pl.tsne(adata, color = ['Procr', 'Klf1', 'Elane', 'Dntt', 'leiden'])"
   ]
  },
  {
   "cell_type": "markdown",
   "metadata": {},
   "source": [
    "#### UMAP"
   ]
  },
  {
   "cell_type": "markdown",
   "metadata": {},
   "source": [
    "UMAP is build on similar principles to the tSNE algorithm but with the aim to preserve the global topology of the data when finding a low-dimensional representation. It uses the nearst-neighbor graph to \"map\" the high-dimensional manifold and a machine learning approach to find the best 2D and 3D embedding.\n",
    "\n",
    "Note: the method is non-linear, hence distances between points do not represent distances in the gene expression space\n",
    "Source: https://umap-learn.readthedocs.io/en/latest/how_umap_works.html"
   ]
  },
  {
   "cell_type": "code",
   "execution_count": null,
   "metadata": {},
   "outputs": [],
   "source": [
    "sc.tl.umap(adata)"
   ]
  },
  {
   "cell_type": "code",
   "execution_count": null,
   "metadata": {},
   "outputs": [],
   "source": [
    "ax = sc.pl.umap(adata, color=['leiden', 'n_genes', 'n_counts'], legend_loc = 'on data', save = '_info.pdf', alpha = 0.5)\n",
    "ax = sc.pl.umap(adata, color=['Procr', 'Klf1', 'Elane', 'Ms4a2', 'Pf4', 'Irf8', 'Dntt'], legend_loc = 'on data', save = '_markers.pdf', alpha = 0.5)"
   ]
  },
  {
   "cell_type": "markdown",
   "metadata": {},
   "source": [
    "#### Force-directed graph (SPRING)"
   ]
  },
  {
   "cell_type": "markdown",
   "metadata": {},
   "source": [
    "The method uses nearest-neighbor graphs which are laid out in 2D using repulsion and attraction forces. Briefly, all the nodes try to escape from each other while the edges between them keep them together. Method performs well even with complex landscapes, but can be sensitive to spurious edges, which don't allow the graph to 'open up'.\n",
    "\n",
    "Source: https://kleintools.hms.harvard.edu/tools/spring.html"
   ]
  },
  {
   "cell_type": "code",
   "execution_count": null,
   "metadata": {},
   "outputs": [],
   "source": [
    "sc.tl.draw_graph(adata)"
   ]
  },
  {
   "cell_type": "code",
   "execution_count": null,
   "metadata": {},
   "outputs": [],
   "source": [
    "ax = sc.pl.draw_graph(adata, color=['leiden', 'n_genes', 'n_counts'], legend_loc = 'on data', save = '_info.pdf', alpha = 0.5)\n",
    "ax = sc.pl.draw_graph(adata, color=['Procr', 'Klf1', 'Elane', 'Ms4a2', 'Pf4', 'Irf8', 'Dntt'], legend_loc = 'on data', save = '_markers.pdf', alpha = 0.5)"
   ]
  },
  {
   "cell_type": "markdown",
   "metadata": {},
   "source": [
    "## Removing confounders"
   ]
  },
  {
   "cell_type": "markdown",
   "metadata": {},
   "source": [
    "There are many ways of dealing with confounder variables in the scRNA-Seq data. Above we can see that the orientation of early erythroid and megakaryocytic trajectories look a bit funny and on top of that the erythroid trajectory is kind of split into two parts.\n",
    "\n",
    "One of the main confounders in scRNA-Seq data is cell cycle. Here we used a fairly naive but effective approach to minimise its impact on our representations: we remove 368 genes related to the cell cycle process."
   ]
  },
  {
   "cell_type": "markdown",
   "metadata": {},
   "source": [
    "Making a copy of the AnnData object and removing the cell cycle genes from the highly variable list (which means they will not be used for any downstream computation"
   ]
  },
  {
   "cell_type": "code",
   "execution_count": null,
   "metadata": {},
   "outputs": [],
   "source": [
    "adata_noCC = adata.copy()"
   ]
  },
  {
   "cell_type": "code",
   "execution_count": null,
   "metadata": {},
   "outputs": [],
   "source": [
    "adata_noCC.var.loc[adata.var.isCC & adata.var.highly_variable, 'highly_variable'] = False"
   ]
  },
  {
   "cell_type": "markdown",
   "metadata": {},
   "source": [
    "Recomputing the PCA and finding the nearest neighbors again"
   ]
  },
  {
   "cell_type": "code",
   "execution_count": null,
   "metadata": {},
   "outputs": [],
   "source": [
    "sc.tl.pca(adata_noCC, n_comps=50, svd_solver = 'arpack')"
   ]
  },
  {
   "cell_type": "code",
   "execution_count": null,
   "metadata": {},
   "outputs": [],
   "source": [
    "sc.pp.neighbors(adata_noCC, n_neighbors = 7, n_pcs = 20)"
   ]
  },
  {
   "cell_type": "markdown",
   "metadata": {},
   "source": [
    "Clustering (again)"
   ]
  },
  {
   "cell_type": "code",
   "execution_count": null,
   "metadata": {},
   "outputs": [],
   "source": [
    "sc.tl.leiden(adata_noCC, resolution=0.75)"
   ]
  },
  {
   "cell_type": "markdown",
   "metadata": {},
   "source": [
    "UMAP (again)"
   ]
  },
  {
   "cell_type": "code",
   "execution_count": null,
   "metadata": {},
   "outputs": [],
   "source": [
    "sc.tl.umap(adata_noCC)"
   ]
  },
  {
   "cell_type": "code",
   "execution_count": null,
   "metadata": {},
   "outputs": [],
   "source": [
    "ax = sc.pl.umap(adata_noCC, color=['leiden', 'n_genes', 'n_counts'], legend_loc = 'on data', save = '_info.pdf', alpha = 0.5)\n",
    "ax = sc.pl.umap(adata_noCC, color=['Procr', 'Klf1', 'Elane', 'Ms4a2', 'Pf4', 'Irf8', 'Dntt'], legend_loc = 'on data', save = '_markers.pdf', alpha = 0.5)"
   ]
  },
  {
   "cell_type": "markdown",
   "metadata": {},
   "source": [
    "#### Force-directed graph"
   ]
  },
  {
   "cell_type": "code",
   "execution_count": null,
   "metadata": {},
   "outputs": [],
   "source": [
    "sc.tl.draw_graph(adata_noCC)"
   ]
  },
  {
   "cell_type": "code",
   "execution_count": null,
   "metadata": {},
   "outputs": [],
   "source": [
    "ax = sc.pl.draw_graph(adata_noCC, color=['leiden', 'n_genes', 'n_counts'], legend_loc = 'on data', save = '_info.pdf', alpha = 0.5)\n",
    "ax = sc.pl.draw_graph(adata_noCC, color=['Procr', 'Klf1', 'Elane', 'Ms4a2', 'Pf4', 'Irf8', 'Dntt'], legend_loc = 'on data', save = '_markers.pdf', alpha = 0.5)"
   ]
  },
  {
   "cell_type": "markdown",
   "metadata": {},
   "source": [
    "After removing the cell cycle genes both visualisations appear clearer."
   ]
  },
  {
   "cell_type": "markdown",
   "metadata": {},
   "source": [
    "## Plotting gene expression"
   ]
  },
  {
   "cell_type": "markdown",
   "metadata": {},
   "source": [
    "In addition to color-coded scatter plots above we can summarise gene expression in various other ways."
   ]
  },
  {
   "cell_type": "markdown",
   "metadata": {},
   "source": [
    "#### Heatmaps"
   ]
  },
  {
   "cell_type": "code",
   "execution_count": null,
   "metadata": {},
   "outputs": [],
   "source": [
    "sc.pl.heatmap(adata_noCC, var_names = ['Procr', 'Klf1', 'Elane', 'Ms4a2', 'Pf4', 'Irf8', 'Dntt'], \n",
    "              groupby = 'leiden', dendrogram = True)"
   ]
  },
  {
   "cell_type": "markdown",
   "metadata": {},
   "source": [
    "#### Dotplots"
   ]
  },
  {
   "cell_type": "code",
   "execution_count": null,
   "metadata": {},
   "outputs": [],
   "source": [
    "sc.pl.dotplot(adata_noCC, var_names = ['Procr', 'Klf1', 'Elane', 'Ms4a2', 'Pf4', 'Irf8', 'Dntt'], \n",
    "              groupby = 'leiden')"
   ]
  },
  {
   "cell_type": "markdown",
   "metadata": {},
   "source": [
    "#### Violins"
   ]
  },
  {
   "cell_type": "code",
   "execution_count": null,
   "metadata": {},
   "outputs": [],
   "source": [
    "sc.pl.violin(adata_noCC, keys = ['Procr', 'Klf1', 'Elane', 'Ms4a2', 'Pf4', 'Irf8', 'Dntt'], \n",
    "              groupby = 'leiden')"
   ]
  },
  {
   "cell_type": "markdown",
   "metadata": {},
   "source": [
    "## Simple differential expression - finding markers"
   ]
  },
  {
   "cell_type": "markdown",
   "metadata": {},
   "source": [
    "Scanpy implement a simple way for performing differential expression using the t-test. The default setting runs a comparison for each cluster against all other clusters combined, hence is particularly useful for detecting marker genes."
   ]
  },
  {
   "cell_type": "code",
   "execution_count": null,
   "metadata": {},
   "outputs": [],
   "source": [
    "sc.tl.rank_genes_groups(adata_noCC, groupby = 'leiden', reference = 'rest', n_genes = 100)"
   ]
  },
  {
   "cell_type": "markdown",
   "metadata": {},
   "source": [
    "Plotting results"
   ]
  },
  {
   "cell_type": "code",
   "execution_count": null,
   "metadata": {},
   "outputs": [],
   "source": [
    "sc.pl.rank_genes_groups(adata_noCC)"
   ]
  },
  {
   "cell_type": "markdown",
   "metadata": {},
   "source": [
    "We can also specify the comparisons explicitly, for instance here we want narrow down the comparisons to clusters: 0,1,2 and compare them against the reference of cluster 0."
   ]
  },
  {
   "cell_type": "code",
   "execution_count": null,
   "metadata": {},
   "outputs": [],
   "source": [
    "sc.tl.rank_genes_groups(adata_noCC, groupby = 'leiden', groups = ['0', '1', '2'], reference = '0', n_genes = 100)"
   ]
  },
  {
   "cell_type": "code",
   "execution_count": null,
   "metadata": {},
   "outputs": [],
   "source": [
    "sc.pl.rank_genes_groups(adata_noCC)"
   ]
  },
  {
   "cell_type": "markdown",
   "metadata": {},
   "source": [
    "## Trajectory identification - PAGA"
   ]
  },
  {
   "cell_type": "markdown",
   "metadata": {},
   "source": [
    "Trajectory inference in scRNA-Seq is fairly complex and dozens of various methods have been published on the subject. PAGA is broadly applicable and easy to use thanks to the implementation in the scanpy package. PAGA analysed the nearest neighbour graphs and provides a map of clusters based on their connectivity in the high-dimensional space.\n",
    "\n",
    "source: https://genomebiology.biomedcentral.com/articles/10.1186/s13059-019-1663-x"
   ]
  },
  {
   "cell_type": "code",
   "execution_count": null,
   "metadata": {},
   "outputs": [],
   "source": [
    "sc.tl.paga(adata_noCC, groups = 'leiden')"
   ]
  },
  {
   "cell_type": "code",
   "execution_count": null,
   "metadata": {},
   "outputs": [],
   "source": [
    "sc.pl.paga(adata_noCC)"
   ]
  },
  {
   "cell_type": "code",
   "execution_count": null,
   "metadata": {},
   "outputs": [],
   "source": [
    "sc.pl.paga_compare(adata_noCC, basis = 'umap')"
   ]
  },
  {
   "cell_type": "markdown",
   "metadata": {},
   "source": [
    "Essentially the edges connect clusters which are related to each other, thus allowing predictions about cell flow through the graph."
   ]
  },
  {
   "cell_type": "markdown",
   "metadata": {},
   "source": [
    "## Writing data"
   ]
  },
  {
   "cell_type": "code",
   "execution_count": null,
   "metadata": {},
   "outputs": [],
   "source": [
    "adata_noCC.write('LK_example2k_processed.h5ad', compression = 'lzf')"
   ]
  }
 ],
 "metadata": {
  "kernelspec": {
   "display_name": "Python 3",
   "language": "python",
   "name": "python3"
  },
  "language_info": {
   "codemirror_mode": {
    "name": "ipython",
    "version": 3
   },
   "file_extension": ".py",
   "mimetype": "text/x-python",
   "name": "python",
   "nbconvert_exporter": "python",
   "pygments_lexer": "ipython3",
   "version": "3.7.3"
  }
 },
 "nbformat": 4,
 "nbformat_minor": 2
}
